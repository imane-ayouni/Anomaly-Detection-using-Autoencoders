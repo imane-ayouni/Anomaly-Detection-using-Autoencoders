{
 "cells": [
  {
   "cell_type": "markdown",
   "id": "207a893e",
   "metadata": {},
   "source": [
    "# Anomaly Detection using Autoencoders"
   ]
  },
  {
   "cell_type": "markdown",
   "id": "3e5aa3b4",
   "metadata": {},
   "source": [
    "## Topic\n",
    "\n",
    "In this notebook I will experiment with neural networks to classify bank transactions as fraudulent or not. The neural net I will be using is the autoencoder which is a simple network that learns to recreate its input, its performance is measured with the error between the actual input and the input recreated by the autoencoder. After data preprocessing, the autoencoder is only fed with the non fraudulent instances until the error is minimized as much as possible, then the autoencoder is fed fraudulent instances for which the error will be higher than the non fraudulent instances that it has learned to recreate, and that's how we can classify an instance as fraud or not. So let's get started !"
   ]
  },
  {
   "cell_type": "markdown",
   "id": "f1440161",
   "metadata": {},
   "source": [
    "## Objective\n",
    "\n",
    "- Create a network that is able to classify a transaction as a fraud or not"
   ]
  },
  {
   "cell_type": "markdown",
   "id": "9ab1706b",
   "metadata": {},
   "source": [
    "## Summary\n",
    "\n",
    "- Importing libraries\n",
    "- The dataset\n",
    "- Data preprocessing\n",
    "- Creating the data loader\n",
    "- Creating the Autoencoder\n",
    "- Training the network\n",
    "- Network evaluation\n",
    "- Testing the network\n",
    "- Evaluation metrics\n",
    "- Conclusion"
   ]
  },
  {
   "cell_type": "markdown",
   "id": "bb8a2b21",
   "metadata": {},
   "source": [
    "### Importing libraries"
   ]
  },
  {
   "cell_type": "code",
   "execution_count": 424,
   "id": "e201e45d",
   "metadata": {},
   "outputs": [],
   "source": [
    "import pandas as pd\n",
    "import numpy as np\n",
    "import matplotlib.pyplot as plt\n",
    "import torch.nn as nn\n",
    "import torch\n",
    "import seaborn as sns\n",
    "from sklearn.utils import shuffle\n",
    "from sklearn.preprocessing import MinMaxScaler\n",
    "from torch.utils.data import TensorDataset, DataLoader\n",
    "from torch.utils.data import Dataset\n",
    "from sklearn.metrics import classification_report, confusion_matrix\n",
    "from sklearn import metrics"
   ]
  },
  {
   "cell_type": "markdown",
   "id": "f5a31684",
   "metadata": {},
   "source": [
    "### The dataset"
   ]
  },
  {
   "cell_type": "code",
   "execution_count": 425,
   "id": "8122ab1e",
   "metadata": {},
   "outputs": [
    {
     "data": {
      "text/html": [
       "<div>\n",
       "<style scoped>\n",
       "    .dataframe tbody tr th:only-of-type {\n",
       "        vertical-align: middle;\n",
       "    }\n",
       "\n",
       "    .dataframe tbody tr th {\n",
       "        vertical-align: top;\n",
       "    }\n",
       "\n",
       "    .dataframe thead th {\n",
       "        text-align: right;\n",
       "    }\n",
       "</style>\n",
       "<table border=\"1\" class=\"dataframe\">\n",
       "  <thead>\n",
       "    <tr style=\"text-align: right;\">\n",
       "      <th></th>\n",
       "      <th>distance_from_home</th>\n",
       "      <th>distance_from_last_transaction</th>\n",
       "      <th>ratio_to_median_purchase_price</th>\n",
       "      <th>repeat_retailer</th>\n",
       "      <th>used_chip</th>\n",
       "      <th>used_pin_number</th>\n",
       "      <th>online_order</th>\n",
       "      <th>fraud</th>\n",
       "    </tr>\n",
       "  </thead>\n",
       "  <tbody>\n",
       "    <tr>\n",
       "      <th>0</th>\n",
       "      <td>57.877857</td>\n",
       "      <td>0.311140</td>\n",
       "      <td>1.945940</td>\n",
       "      <td>1.0</td>\n",
       "      <td>1.0</td>\n",
       "      <td>0.0</td>\n",
       "      <td>0.0</td>\n",
       "      <td>0.0</td>\n",
       "    </tr>\n",
       "    <tr>\n",
       "      <th>1</th>\n",
       "      <td>10.829943</td>\n",
       "      <td>0.175592</td>\n",
       "      <td>1.294219</td>\n",
       "      <td>1.0</td>\n",
       "      <td>0.0</td>\n",
       "      <td>0.0</td>\n",
       "      <td>0.0</td>\n",
       "      <td>0.0</td>\n",
       "    </tr>\n",
       "    <tr>\n",
       "      <th>2</th>\n",
       "      <td>5.091079</td>\n",
       "      <td>0.805153</td>\n",
       "      <td>0.427715</td>\n",
       "      <td>1.0</td>\n",
       "      <td>0.0</td>\n",
       "      <td>0.0</td>\n",
       "      <td>1.0</td>\n",
       "      <td>0.0</td>\n",
       "    </tr>\n",
       "    <tr>\n",
       "      <th>3</th>\n",
       "      <td>2.247564</td>\n",
       "      <td>5.600044</td>\n",
       "      <td>0.362663</td>\n",
       "      <td>1.0</td>\n",
       "      <td>1.0</td>\n",
       "      <td>0.0</td>\n",
       "      <td>1.0</td>\n",
       "      <td>0.0</td>\n",
       "    </tr>\n",
       "    <tr>\n",
       "      <th>4</th>\n",
       "      <td>44.190936</td>\n",
       "      <td>0.566486</td>\n",
       "      <td>2.222767</td>\n",
       "      <td>1.0</td>\n",
       "      <td>1.0</td>\n",
       "      <td>0.0</td>\n",
       "      <td>1.0</td>\n",
       "      <td>0.0</td>\n",
       "    </tr>\n",
       "  </tbody>\n",
       "</table>\n",
       "</div>"
      ],
      "text/plain": [
       "   distance_from_home  distance_from_last_transaction  \\\n",
       "0           57.877857                        0.311140   \n",
       "1           10.829943                        0.175592   \n",
       "2            5.091079                        0.805153   \n",
       "3            2.247564                        5.600044   \n",
       "4           44.190936                        0.566486   \n",
       "\n",
       "   ratio_to_median_purchase_price  repeat_retailer  used_chip  \\\n",
       "0                        1.945940              1.0        1.0   \n",
       "1                        1.294219              1.0        0.0   \n",
       "2                        0.427715              1.0        0.0   \n",
       "3                        0.362663              1.0        1.0   \n",
       "4                        2.222767              1.0        1.0   \n",
       "\n",
       "   used_pin_number  online_order  fraud  \n",
       "0              0.0           0.0    0.0  \n",
       "1              0.0           0.0    0.0  \n",
       "2              0.0           1.0    0.0  \n",
       "3              0.0           1.0    0.0  \n",
       "4              0.0           1.0    0.0  "
      ]
     },
     "execution_count": 425,
     "metadata": {},
     "output_type": "execute_result"
    }
   ],
   "source": [
    "df = pd.read_csv(r'C:\\Users\\imane\\Downloads\\archive (38)\\card_transdata.csv')\n",
    "df.head()"
   ]
  },
  {
   "cell_type": "markdown",
   "id": "e8e531e6",
   "metadata": {},
   "source": [
    "So the dataset is composed of 7 columns each representing a ratio that has already been calculated, it's composed of :\n",
    "\n",
    "- distance_from_home - the distance from home where the transaction happened.\n",
    "\n",
    "- distance_from_last_transaction - the distance from last transaction happened.\n",
    "\n",
    "- ratio_to_median_purchase_price - Ratio of purchased price transaction to median purchase price.\n",
    "\n",
    "- repeat_retailer - Is the transaction happened from same retailer.\n",
    "\n",
    "- used_chip - Is the transaction through chip (credit card).\n",
    "\n",
    "- used_pin_number - Is the transaction happened by using PIN number.\n",
    "\n",
    "- online_order - Is the transaction an online order.\n",
    "\n",
    "- fraud - Is the transaction fraudulent."
   ]
  },
  {
   "cell_type": "code",
   "execution_count": 426,
   "id": "2f42c43a",
   "metadata": {},
   "outputs": [
    {
     "name": "stdout",
     "output_type": "stream",
     "text": [
      "<class 'pandas.core.frame.DataFrame'>\n",
      "RangeIndex: 1000000 entries, 0 to 999999\n",
      "Data columns (total 8 columns):\n",
      " #   Column                          Non-Null Count    Dtype  \n",
      "---  ------                          --------------    -----  \n",
      " 0   distance_from_home              1000000 non-null  float64\n",
      " 1   distance_from_last_transaction  1000000 non-null  float64\n",
      " 2   ratio_to_median_purchase_price  1000000 non-null  float64\n",
      " 3   repeat_retailer                 1000000 non-null  float64\n",
      " 4   used_chip                       1000000 non-null  float64\n",
      " 5   used_pin_number                 1000000 non-null  float64\n",
      " 6   online_order                    1000000 non-null  float64\n",
      " 7   fraud                           1000000 non-null  float64\n",
      "dtypes: float64(8)\n",
      "memory usage: 61.0 MB\n"
     ]
    }
   ],
   "source": [
    "df.info()"
   ]
  },
  {
   "cell_type": "code",
   "execution_count": 427,
   "id": "14780065",
   "metadata": {},
   "outputs": [
    {
     "data": {
      "text/plain": [
       "<Axes: >"
      ]
     },
     "execution_count": 427,
     "metadata": {},
     "output_type": "execute_result"
    },
    {
     "data": {
      "image/png": "[encoded data removed]",
      "text/plain": [
       "<Figure size 640x480 with 1 Axes>"
      ]
     },
     "metadata": {},
     "output_type": "display_data"
    }
   ],
   "source": [
    "df['fraud'].value_counts().plot(kind='bar')"
   ]
  },
  {
   "cell_type": "markdown",
   "id": "5a6ad0f6",
   "metadata": {},
   "source": [
    "The plot above shows the amount of fraudulent and regular transactions, as expected the number of regular transaction is much much higher than the fraudulent ones."
   ]
  },
  {
   "cell_type": "markdown",
   "id": "8c28f9e4",
   "metadata": {},
   "source": [
    "### Data preprocessing"
   ]
  },
  {
   "cell_type": "code",
   "execution_count": 428,
   "id": "40906437",
   "metadata": {},
   "outputs": [],
   "source": [
    "regular = df.loc[df['fraud'] == 0.0]\n",
    "fraud = df.loc[df[\"fraud\"] == 1.0]"
   ]
  },
  {
   "cell_type": "code",
   "execution_count": 429,
   "id": "22ffee73",
   "metadata": {},
   "outputs": [
    {
     "name": "stdout",
     "output_type": "stream",
     "text": [
      "87403\n"
     ]
    }
   ],
   "source": [
    "print(len(fraud))"
   ]
  },
  {
   "cell_type": "code",
   "execution_count": 430,
   "id": "515d6ae1",
   "metadata": {},
   "outputs": [
    {
     "name": "stdout",
     "output_type": "stream",
     "text": [
      "912597\n"
     ]
    }
   ],
   "source": [
    "print(len(regular))"
   ]
  },
  {
   "cell_type": "markdown",
   "id": "6987d31e",
   "metadata": {},
   "source": [
    "So first of all I seperated the fraud instances from the regular transaction instances and saved them in seperate datasets."
   ]
  },
  {
   "cell_type": "code",
   "execution_count": 431,
   "id": "c2f3e4ac",
   "metadata": {},
   "outputs": [],
   "source": [
    "val_fraud = fraud.iloc[:17480]"
   ]
  },
  {
   "cell_type": "code",
   "execution_count": 432,
   "id": "a6edaa1e",
   "metadata": {},
   "outputs": [
    {
     "name": "stdout",
     "output_type": "stream",
     "text": [
      "69923\n"
     ]
    }
   ],
   "source": [
    "fraud = fraud[17480:]\n",
    "print(len(fraud))"
   ]
  },
  {
   "cell_type": "markdown",
   "id": "f0d3d7d6",
   "metadata": {},
   "source": [
    "Than I kept 20% of the fraud dataset for validation to be used later on."
   ]
  },
  {
   "cell_type": "code",
   "execution_count": 433,
   "id": "47e1b806",
   "metadata": {},
   "outputs": [],
   "source": [
    "test_regular = regular.iloc[:69923]\n",
    "regular = regular.iloc[69923:]"
   ]
  },
  {
   "cell_type": "code",
   "execution_count": 434,
   "id": "d2a3dcaf",
   "metadata": {},
   "outputs": [
    {
     "name": "stdout",
     "output_type": "stream",
     "text": [
      "842674\n"
     ]
    }
   ],
   "source": [
    "print(len(regular))"
   ]
  },
  {
   "cell_type": "markdown",
   "id": "7ac87b2c",
   "metadata": {},
   "source": [
    "Then I kept a part of the regular transactions to be added to the fraudulent transactions dataset for final testing."
   ]
  },
  {
   "cell_type": "code",
   "execution_count": 435,
   "id": "a4ff6521",
   "metadata": {},
   "outputs": [],
   "source": [
    "datasets = [fraud, test_regular]\n",
    "test_df = pd.concat(datasets)"
   ]
  },
  {
   "cell_type": "code",
   "execution_count": 436,
   "id": "687b84ff",
   "metadata": {},
   "outputs": [
    {
     "name": "stdout",
     "output_type": "stream",
     "text": [
      "139846\n"
     ]
    }
   ],
   "source": [
    "print(len(test_df))"
   ]
  },
  {
   "cell_type": "code",
   "execution_count": 437,
   "id": "80015eec",
   "metadata": {},
   "outputs": [
    {
     "data": {
      "text/html": [
       "<div>\n",
       "<style scoped>\n",
       "    .dataframe tbody tr th:only-of-type {\n",
       "        vertical-align: middle;\n",
       "    }\n",
       "\n",
       "    .dataframe tbody tr th {\n",
       "        vertical-align: top;\n",
       "    }\n",
       "\n",
       "    .dataframe thead th {\n",
       "        text-align: right;\n",
       "    }\n",
       "</style>\n",
       "<table border=\"1\" class=\"dataframe\">\n",
       "  <thead>\n",
       "    <tr style=\"text-align: right;\">\n",
       "      <th></th>\n",
       "      <th>distance_from_home</th>\n",
       "      <th>distance_from_last_transaction</th>\n",
       "      <th>ratio_to_median_purchase_price</th>\n",
       "      <th>repeat_retailer</th>\n",
       "      <th>used_chip</th>\n",
       "      <th>used_pin_number</th>\n",
       "      <th>online_order</th>\n",
       "      <th>fraud</th>\n",
       "    </tr>\n",
       "  </thead>\n",
       "  <tbody>\n",
       "    <tr>\n",
       "      <th>524826</th>\n",
       "      <td>5.700407</td>\n",
       "      <td>1.342965</td>\n",
       "      <td>6.805418</td>\n",
       "      <td>1.0</td>\n",
       "      <td>0.0</td>\n",
       "      <td>0.0</td>\n",
       "      <td>1.0</td>\n",
       "      <td>1.0</td>\n",
       "    </tr>\n",
       "    <tr>\n",
       "      <th>69235</th>\n",
       "      <td>4.932474</td>\n",
       "      <td>0.878688</td>\n",
       "      <td>0.310905</td>\n",
       "      <td>1.0</td>\n",
       "      <td>1.0</td>\n",
       "      <td>0.0</td>\n",
       "      <td>1.0</td>\n",
       "      <td>0.0</td>\n",
       "    </tr>\n",
       "    <tr>\n",
       "      <th>850925</th>\n",
       "      <td>116.065338</td>\n",
       "      <td>2.420946</td>\n",
       "      <td>1.333897</td>\n",
       "      <td>1.0</td>\n",
       "      <td>0.0</td>\n",
       "      <td>0.0</td>\n",
       "      <td>1.0</td>\n",
       "      <td>1.0</td>\n",
       "    </tr>\n",
       "    <tr>\n",
       "      <th>256099</th>\n",
       "      <td>1.454756</td>\n",
       "      <td>5.878092</td>\n",
       "      <td>4.658602</td>\n",
       "      <td>0.0</td>\n",
       "      <td>0.0</td>\n",
       "      <td>0.0</td>\n",
       "      <td>1.0</td>\n",
       "      <td>1.0</td>\n",
       "    </tr>\n",
       "    <tr>\n",
       "      <th>501611</th>\n",
       "      <td>47.038781</td>\n",
       "      <td>2.119076</td>\n",
       "      <td>6.194079</td>\n",
       "      <td>1.0</td>\n",
       "      <td>0.0</td>\n",
       "      <td>0.0</td>\n",
       "      <td>1.0</td>\n",
       "      <td>1.0</td>\n",
       "    </tr>\n",
       "  </tbody>\n",
       "</table>\n",
       "</div>"
      ],
      "text/plain": [
       "        distance_from_home  distance_from_last_transaction  \\\n",
       "524826            5.700407                        1.342965   \n",
       "69235             4.932474                        0.878688   \n",
       "850925          116.065338                        2.420946   \n",
       "256099            1.454756                        5.878092   \n",
       "501611           47.038781                        2.119076   \n",
       "\n",
       "        ratio_to_median_purchase_price  repeat_retailer  used_chip  \\\n",
       "524826                        6.805418              1.0        0.0   \n",
       "69235                         0.310905              1.0        1.0   \n",
       "850925                        1.333897              1.0        0.0   \n",
       "256099                        4.658602              0.0        0.0   \n",
       "501611                        6.194079              1.0        0.0   \n",
       "\n",
       "        used_pin_number  online_order  fraud  \n",
       "524826              0.0           1.0    1.0  \n",
       "69235               0.0           1.0    0.0  \n",
       "850925              0.0           1.0    1.0  \n",
       "256099              0.0           1.0    1.0  \n",
       "501611              0.0           1.0    1.0  "
      ]
     },
     "execution_count": 437,
     "metadata": {},
     "output_type": "execute_result"
    }
   ],
   "source": [
    "test = shuffle(test_df)\n",
    "test.head()"
   ]
  },
  {
   "cell_type": "markdown",
   "id": "39577be2",
   "metadata": {},
   "source": [
    "Then I cancatenated the fraud test portion with the reguklar test portion to get a test dataset where the number of fraudulent transations is the same as the number of regular transactions."
   ]
  },
  {
   "cell_type": "code",
   "execution_count": 438,
   "id": "18d98cc5",
   "metadata": {},
   "outputs": [],
   "source": [
    "y_train = regular[\"fraud\"]\n",
    "train = regular.drop(columns=['fraud'], axis=1)"
   ]
  },
  {
   "cell_type": "code",
   "execution_count": 439,
   "id": "8f5ea4e1",
   "metadata": {},
   "outputs": [],
   "source": [
    "y_test = test['fraud']\n",
    "test = test.drop(columns=[\"fraud\"], axis=1)"
   ]
  },
  {
   "cell_type": "code",
   "execution_count": 440,
   "id": "97f4053b",
   "metadata": {},
   "outputs": [],
   "source": [
    "y_val = val_fraud[\"fraud\"]\n",
    "val = val_fraud.drop(columns=[\"fraud\"], axis= 1)"
   ]
  },
  {
   "cell_type": "code",
   "execution_count": 441,
   "id": "53cf296c",
   "metadata": {},
   "outputs": [],
   "source": [
    "scaler = MinMaxScaler()\n",
    "fit = scaler.fit(train)\n",
    "scaled_train = fit.transform(train)"
   ]
  },
  {
   "cell_type": "code",
   "execution_count": 442,
   "id": "864ff1f5",
   "metadata": {},
   "outputs": [],
   "source": [
    "fit = scaler.fit(test)\n",
    "scaled_test = fit.transform(test)"
   ]
  },
  {
   "cell_type": "code",
   "execution_count": 443,
   "id": "ec53e5d2",
   "metadata": {},
   "outputs": [],
   "source": [
    "fit = scaler.fit(val)\n",
    "scaled_val = fit.transform(val)"
   ]
  },
  {
   "cell_type": "markdown",
   "id": "cf5a7fb9",
   "metadata": {},
   "source": [
    "Next I used the MinMax scaler to scale the values I have in all my datasets (training, validation and testing)."
   ]
  },
  {
   "cell_type": "markdown",
   "id": "9c2fa84a",
   "metadata": {},
   "source": [
    "### Creating the dataloader"
   ]
  },
  {
   "cell_type": "code",
   "execution_count": 444,
   "id": "30f0ac30",
   "metadata": {},
   "outputs": [],
   "source": [
    "y_train = y_train.to_numpy()"
   ]
  },
  {
   "cell_type": "code",
   "execution_count": 445,
   "id": "59fdf77e",
   "metadata": {},
   "outputs": [],
   "source": [
    "class Train_loader(Dataset):\n",
    "    def __init__(self):\n",
    "        self.X = torch.tensor(scaled_train, dtype= torch.float32)\n",
    "        self.Y = torch.tensor(y_train, dtype = torch.float32)\n",
    "        self.len = self.X.shape[0]\n",
    "    def __getitem__(self, index):\n",
    "        return self.X[index], self.Y[index]\n",
    "    def __len__(self):\n",
    "        return self.len"
   ]
  },
  {
   "cell_type": "code",
   "execution_count": 446,
   "id": "7b92d7fc",
   "metadata": {},
   "outputs": [],
   "source": [
    "train_data = Train_loader()"
   ]
  },
  {
   "cell_type": "code",
   "execution_count": 447,
   "id": "6f6925c5",
   "metadata": {},
   "outputs": [],
   "source": [
    "train_loader = DataLoader(dataset = train_data, batch_size= 64, drop_last=True)"
   ]
  },
  {
   "cell_type": "code",
   "execution_count": 448,
   "id": "25756870",
   "metadata": {},
   "outputs": [],
   "source": [
    "batch_size = 128\n",
    "train_loader = DataLoader(train_data, shuffle=True, batch_size=batch_size, drop_last=True)"
   ]
  },
  {
   "cell_type": "markdown",
   "id": "b6a9c8e1",
   "metadata": {},
   "source": [
    "In the above I created the tensor dataset and the data loader for the training set, and chose a batch size of 128."
   ]
  },
  {
   "cell_type": "markdown",
   "id": "11e6f320",
   "metadata": {},
   "source": [
    "### Creating the Autoencoder"
   ]
  },
  {
   "cell_type": "code",
   "execution_count": 470,
   "id": "b9851744",
   "metadata": {},
   "outputs": [],
   "source": [
    "class autoencoder(nn.Module):\n",
    "    def __init__(self):\n",
    "        super(autoencoder, self).__init__()\n",
    "        self.encoder = nn.Sequential(\n",
    "            nn.Linear(7, 365),\n",
    "            nn.ReLU(),\n",
    "            nn.Linear(365, 365),\n",
    "            nn.ReLU(),\n",
    "            nn.Linear(365, 22),\n",
    "            nn.ReLU())\n",
    "        self.decoder = nn.Sequential(\n",
    "            nn.Linear(22, 365),\n",
    "            nn.ReLU(),\n",
    "            nn.Linear(365, 365),\n",
    "            nn.ReLU(),\n",
    "            nn.Linear(365, 7),\n",
    "            nn.ReLU())\n",
    "    def forward(self, x):\n",
    "        encode = self.encoder(x)\n",
    "        decode = self.decoder(encode)\n",
    "        return decode"
   ]
  },
  {
   "cell_type": "code",
   "execution_count": 471,
   "id": "89ae99a5",
   "metadata": {},
   "outputs": [
    {
     "name": "stdout",
     "output_type": "stream",
     "text": [
      "autoencoder(\n",
      "  (encoder): Sequential(\n",
      "    (0): Linear(in_features=7, out_features=365, bias=True)\n",
      "    (1): ReLU()\n",
      "    (2): Linear(in_features=365, out_features=365, bias=True)\n",
      "    (3): ReLU()\n",
      "    (4): Linear(in_features=365, out_features=22, bias=True)\n",
      "    (5): ReLU()\n",
      "  )\n",
      "  (decoder): Sequential(\n",
      "    (0): Linear(in_features=22, out_features=365, bias=True)\n",
      "    (1): ReLU()\n",
      "    (2): Linear(in_features=365, out_features=365, bias=True)\n",
      "    (3): ReLU()\n",
      "    (4): Linear(in_features=365, out_features=7, bias=True)\n",
      "    (5): ReLU()\n",
      "  )\n",
      ")\n"
     ]
    }
   ],
   "source": [
    "autoencoder = autoencoder()\n",
    "print(autoencoder)"
   ]
  },
  {
   "cell_type": "markdown",
   "id": "b7d3a709",
   "metadata": {},
   "source": [
    "So the autoencoder is a simple network composed of dully connected layers, it has two parts : the encoder and the decoder. The encoder's job is to learn the distribution and latent factors or features of the instance, and the decoder's job is to rebuild the input fed to the encoder from the latent features generated by the encoder."
   ]
  },
  {
   "cell_type": "markdown",
   "id": "07aaac57",
   "metadata": {},
   "source": [
    "### Training the network"
   ]
  },
  {
   "cell_type": "code",
   "execution_count": 472,
   "id": "1910ba91",
   "metadata": {},
   "outputs": [],
   "source": [
    "criterion = nn.MSELoss()\n",
    "lr = 0.001\n",
    "optimizer = torch.optim.Adam(autoencoder.parameters(), lr=lr)\n",
    "epochs = 15"
   ]
  },
  {
   "cell_type": "code",
   "execution_count": 473,
   "id": "b0e60342",
   "metadata": {},
   "outputs": [
    {
     "name": "stdout",
     "output_type": "stream",
     "text": [
      "epoch  1 training loss  0.0011439221883898336\n",
      "epoch  2 training loss  3.30873529747277e-05\n",
      "epoch  3 training loss  2.5239437137009946e-05\n",
      "epoch  4 training loss  2.2964671875112867e-05\n",
      "epoch  5 training loss  2.0745794140365412e-05\n",
      "epoch  6 training loss  2.2696013639856457e-05\n",
      "epoch  7 training loss  2.1538621462966333e-05\n",
      "epoch  8 training loss  1.9174421551307977e-05\n",
      "epoch  9 training loss  1.9324054932812798e-05\n",
      "epoch  10 training loss  2.061108197715505e-05\n",
      "epoch  11 training loss  1.931958009066937e-05\n",
      "epoch  12 training loss  1.9715869760990955e-05\n",
      "epoch  13 training loss  1.8606664612410158e-05\n",
      "epoch  14 training loss  1.874010584947887e-05\n",
      "epoch  15 training loss  1.9031803663428854e-05\n"
     ]
    }
   ],
   "source": [
    "train_loss = []\n",
    "autoencoder.train()\n",
    "for epoch in range(epochs):\n",
    "    loss = 0.0\n",
    "    for x, _ in train_loader:\n",
    "        optimizer.zero_grad()\n",
    "        y = autoencoder(x)\n",
    "        l = criterion(x, y)\n",
    "        loss += l.item()\n",
    "        l.backward()\n",
    "        optimizer.step()\n",
    "    train_loss.append(loss/len(train_loader))\n",
    "    lo = loss/len(train_loader)\n",
    "    print(\"epoch \", epoch+1, \"training loss \", lo)"
   ]
  },
  {
   "cell_type": "markdown",
   "id": "1cb12cae",
   "metadata": {},
   "source": [
    "So in the training step I pass a batch through the network which means that the autoencoder outputs its recreation of the input fed to it. I then calculate the error between the actual input and the autoencoder's representation of it. As we can see the error is getting lower which means that the network is learning to recreate the input."
   ]
  },
  {
   "cell_type": "code",
   "execution_count": 474,
   "id": "2ffde48c",
   "metadata": {},
   "outputs": [
    {
     "data": {
      "text/plain": [
       "[<matplotlib.lines.Line2D at 0x17045fd36a0>]"
      ]
     },
     "execution_count": 474,
     "metadata": {},
     "output_type": "execute_result"
    },
    {
     "data": {
      "image/png": "[encoded data removed]",
      "text/plain": [
       "<Figure size 1000x500 with 1 Axes>"
      ]
     },
     "metadata": {},
     "output_type": "display_data"
    }
   ],
   "source": [
    "_, ax = plt.subplots(1,1,figsize=(10,5))\n",
    "ax.set_title('Loss')\n",
    "ax.plot(train_loss)"
   ]
  },
  {
   "cell_type": "markdown",
   "id": "b148d329",
   "metadata": {},
   "source": [
    "The plot above shows how the error decreses after the first epoch and stays very low for the rest of the epochs."
   ]
  },
  {
   "cell_type": "markdown",
   "id": "4ea15c13",
   "metadata": {},
   "source": [
    "### Network evaluation"
   ]
  },
  {
   "cell_type": "code",
   "execution_count": 475,
   "id": "866efb21",
   "metadata": {},
   "outputs": [],
   "source": [
    "autoencoder.eval()\n",
    "val_losses = []\n",
    "for i in scaled_val:\n",
    "    x = torch.tensor(i, dtype= torch.float32)\n",
    "    y = autoencoder(x)\n",
    "    loss = criterion(x, y)\n",
    "    val_losses.append(loss.item())"
   ]
  },
  {
   "cell_type": "markdown",
   "id": "6a384f6f",
   "metadata": {},
   "source": [
    "For the evaluation part I chose the dataset that contains only fraudulent transactions to see how the network performs on them and to be able to set the threshold which will help me decide if a transaction is a fraud or not later in the testing step."
   ]
  },
  {
   "cell_type": "code",
   "execution_count": 476,
   "id": "458d9aa4",
   "metadata": {},
   "outputs": [
    {
     "data": {
      "text/html": [
       "<div>\n",
       "<style scoped>\n",
       "    .dataframe tbody tr th:only-of-type {\n",
       "        vertical-align: middle;\n",
       "    }\n",
       "\n",
       "    .dataframe tbody tr th {\n",
       "        vertical-align: top;\n",
       "    }\n",
       "\n",
       "    .dataframe thead th {\n",
       "        text-align: right;\n",
       "    }\n",
       "</style>\n",
       "<table border=\"1\" class=\"dataframe\">\n",
       "  <thead>\n",
       "    <tr style=\"text-align: right;\">\n",
       "      <th></th>\n",
       "      <th>loss</th>\n",
       "    </tr>\n",
       "  </thead>\n",
       "  <tbody>\n",
       "    <tr>\n",
       "      <th>count</th>\n",
       "      <td>17480.000000</td>\n",
       "    </tr>\n",
       "    <tr>\n",
       "      <th>mean</th>\n",
       "      <td>0.000380</td>\n",
       "    </tr>\n",
       "    <tr>\n",
       "      <th>std</th>\n",
       "      <td>0.002644</td>\n",
       "    </tr>\n",
       "    <tr>\n",
       "      <th>min</th>\n",
       "      <td>0.000032</td>\n",
       "    </tr>\n",
       "    <tr>\n",
       "      <th>25%</th>\n",
       "      <td>0.000062</td>\n",
       "    </tr>\n",
       "    <tr>\n",
       "      <th>50%</th>\n",
       "      <td>0.000114</td>\n",
       "    </tr>\n",
       "    <tr>\n",
       "      <th>75%</th>\n",
       "      <td>0.000245</td>\n",
       "    </tr>\n",
       "    <tr>\n",
       "      <th>max</th>\n",
       "      <td>0.142882</td>\n",
       "    </tr>\n",
       "  </tbody>\n",
       "</table>\n",
       "</div>"
      ],
      "text/plain": [
       "               loss\n",
       "count  17480.000000\n",
       "mean       0.000380\n",
       "std        0.002644\n",
       "min        0.000032\n",
       "25%        0.000062\n",
       "50%        0.000114\n",
       "75%        0.000245\n",
       "max        0.142882"
      ]
     },
     "execution_count": 476,
     "metadata": {},
     "output_type": "execute_result"
    }
   ],
   "source": [
    "df_loss = pd.DataFrame()\n",
    "df_loss[\"loss\"] = val_losses\n",
    "df_loss.describe()"
   ]
  },
  {
   "cell_type": "markdown",
   "id": "0272b140",
   "metadata": {},
   "source": [
    "So after passing a number of fraudulent transactions through the autoencoder, I got errors for each instance, above is the description of the errors, I can see that the minimum error for a fraud is 0.000032 i.e all fraudulent transations score an error higher that that. So the minimun error is going to be my threshold."
   ]
  },
  {
   "cell_type": "markdown",
   "id": "27e470fd",
   "metadata": {},
   "source": [
    "### Testing the network"
   ]
  },
  {
   "cell_type": "code",
   "execution_count": 477,
   "id": "1c2d3277",
   "metadata": {},
   "outputs": [],
   "source": [
    "autoencoder.eval()\n",
    "test_losses = []\n",
    "for i in scaled_test:\n",
    "    x = torch.tensor(i, dtype= torch.float32)\n",
    "    y = autoencoder(x)\n",
    "    loss = criterion(x, y)\n",
    "    test_losses.append(loss.item())"
   ]
  },
  {
   "cell_type": "code",
   "execution_count": 478,
   "id": "11900ba2",
   "metadata": {},
   "outputs": [],
   "source": [
    "threshold = 0.000032"
   ]
  },
  {
   "cell_type": "markdown",
   "id": "6cda2f67",
   "metadata": {},
   "source": [
    "So now I used the autoencoder on the test set whoch contains an equal amout of regular and fraudulent transactions. I also set up the threshold to the minimun of the evaluation error."
   ]
  },
  {
   "cell_type": "code",
   "execution_count": 484,
   "id": "e6ac2628",
   "metadata": {},
   "outputs": [
    {
     "data": {
      "text/plain": [
       "<matplotlib.lines.Line2D at 0x1701ffa8100>"
      ]
     },
     "execution_count": 484,
     "metadata": {},
     "output_type": "execute_result"
    },
    {
     "data": {
      "image/png": "[encoded data removed]",
      "text/plain": [
       "<Figure size 640x480 with 1 Axes>"
      ]
     },
     "metadata": {},
     "output_type": "display_data"
    }
   ],
   "source": [
    "loss_sc = []\n",
    "for i in test_losses:\n",
    "    loss_sc.append((i,i))\n",
    "plt.scatter(*zip(*loss_sc))\n",
    "plt.axvline(threshold, 0.0, 1)"
   ]
  },
  {
   "cell_type": "code",
   "execution_count": 480,
   "id": "fd511bc7",
   "metadata": {},
   "outputs": [],
   "source": [
    "targets = []\n",
    "for i in test_losses:\n",
    "    if i <= threshold:\n",
    "        targets.append(0)\n",
    "    elif i > threshold:\n",
    "        targets.append(1)"
   ]
  },
  {
   "cell_type": "markdown",
   "id": "9a6280ab",
   "metadata": {},
   "source": [
    "Finally I stored the targets in a list where the transations that have an error below the threshold are considered regular transations and the ones that have an error higher than the threshold are considered fraudulent."
   ]
  },
  {
   "cell_type": "markdown",
   "id": "c7713f07",
   "metadata": {},
   "source": [
    "### Performance metrics"
   ]
  },
  {
   "cell_type": "code",
   "execution_count": 481,
   "id": "648fde72",
   "metadata": {},
   "outputs": [],
   "source": [
    "cm = confusion_matrix(y_test, targets)"
   ]
  },
  {
   "cell_type": "code",
   "execution_count": 482,
   "id": "e4180322",
   "metadata": {},
   "outputs": [
    {
     "data": {
      "image/png": "[encoded data removed]",
      "text/plain": [
       "<Figure size 640x480 with 2 Axes>"
      ]
     },
     "metadata": {},
     "output_type": "display_data"
    }
   ],
   "source": [
    "sns.heatmap(cm, \n",
    "            annot=True,\n",
    "            fmt='g', )\n",
    "plt.ylabel('Actual',fontsize=13)\n",
    "plt.xlabel('Prediction',fontsize=13)\n",
    "plt.title('Confusion Matrix',fontsize=17)\n",
    "plt.show()"
   ]
  },
  {
   "cell_type": "code",
   "execution_count": 483,
   "id": "5dd48ae2",
   "metadata": {},
   "outputs": [
    {
     "name": "stdout",
     "output_type": "stream",
     "text": [
      "              precision    recall  f1-score   support\n",
      "\n",
      "         0.0       0.93      0.77      0.84     69923\n",
      "         1.0       0.81      0.94      0.87     69923\n",
      "\n",
      "    accuracy                           0.86    139846\n",
      "   macro avg       0.87      0.86      0.86    139846\n",
      "weighted avg       0.87      0.86      0.86    139846\n",
      "\n"
     ]
    }
   ],
   "source": [
    "print(classification_report(y_test, targets))"
   ]
  },
  {
   "cell_type": "markdown",
   "id": "17016d88",
   "metadata": {},
   "source": [
    "In the above I calculated and ploted the confusion matrix as well as the classification report, the results are not perfect in terms of detecting all fraudulent transactions but as the recall shows the network is able to detect 94% of the fraudulent transactions."
   ]
  },
  {
   "cell_type": "markdown",
   "id": "d040b218",
   "metadata": {},
   "source": [
    "## Conclusion\n",
    "\n",
    "In this notebook I had the opportunity to experiment with anomaly detection using neural nets. I used an autoencoder to learn the latent factors of the regular transations until the error drops to a very low level, then I used the same network on fraudulent transactions to be able to set a threshold. Finally I tested my network on a dataset that contains both fraudulent and non fraudulent transaction and the results were above average. So I can say I'm happy with my model's performance."
   ]
  }
 ],
 "metadata": {
  "kernelspec": {
   "display_name": "Python 3 (ipykernel)",
   "language": "python",
   "name": "python3"
  },
  "language_info": {
   "codemirror_mode": {
    "name": "ipython",
    "version": 3
   },
   "file_extension": ".py",
   "mimetype": "text/x-python",
   "name": "python",
   "nbconvert_exporter": "python",
   "pygments_lexer": "ipython3",
   "version": "3.10.9"
  }
 },
 "nbformat": 4,
 "nbformat_minor": 5
}
